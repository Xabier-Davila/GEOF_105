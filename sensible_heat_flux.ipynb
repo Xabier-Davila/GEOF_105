{
 "cells": [
  {
   "cell_type": "markdown",
   "metadata": {},
   "source": [
    "# Calculate the sensible heat flux\n",
    "\n",
    "1. Import libraries"
   ]
  },
  {
   "cell_type": "code",
   "execution_count": null,
   "metadata": {},
   "outputs": [],
   "source": [
    "import numpy as np\n",
    "import matplotlib.pyplot as plt"
   ]
  },
  {
   "cell_type": "markdown",
   "metadata": {},
   "source": [
    "2. We create an idealized daily 24h cycle"
   ]
  },
  {
   "cell_type": "code",
   "execution_count": null,
   "metadata": {},
   "outputs": [],
   "source": [
    "#create an array with the radians for the sin function\n",
    "rad = np.linspace(0,np.pi*2,24)\n",
    "\n",
    "#The sin function simulates the daily variability of SST\n",
    "sst = 3*np.sin(rad)+14 #3 degrees of amplitude and centered at 14 \n",
    "\n",
    "#Plot the daily SST\n",
    "plt.plot(sst) \n",
    "plt.ylabel('SST ($^o$C)') #Define Y axis label \n",
    "plt.xlabel('Time (h)') #Define X axis label "
   ]
  }
 ],
 "metadata": {
  "kernelspec": {
   "display_name": "Python 3",
   "language": "python",
   "name": "python3"
  },
  "language_info": {
   "codemirror_mode": {
    "name": "ipython",
    "version": 3
   },
   "file_extension": ".py",
   "mimetype": "text/x-python",
   "name": "python",
   "nbconvert_exporter": "python",
   "pygments_lexer": "ipython3",
   "version": "3.7.3"
  }
 },
 "nbformat": 4,
 "nbformat_minor": 2
}
