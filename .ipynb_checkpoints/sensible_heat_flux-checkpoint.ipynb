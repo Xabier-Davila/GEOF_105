{
 "cells": [
  {
   "cell_type": "markdown",
   "metadata": {},
   "source": [
    "# Calculate the sensible heat flux\n",
    "\n",
    "1. Import libraries"
   ]
  },
  {
   "cell_type": "code",
   "execution_count": null,
   "metadata": {},
   "outputs": [],
   "source": [
    "import numpy as np\n",
    "import matplotlib.pyplot as plt"
   ]
  },
  {
   "cell_type": "markdown",
   "metadata": {},
   "source": [
    "2. We define the variables\n",
    "rho = air density\n",
    "\n",
    "cp = specific heat capacity for sea water\n",
    "\n",
    "Ch = transfer coefficient for sensible heat\n",
    "\n",
    "u = wind speed (m/s)\n",
    "\n",
    "Ts = sea surface temperature\n",
    "\n",
    "Ta = air temperature\n",
    "\n",
    "z = height where Ta is measured\n",
    "\n",
    "gamma = adiabatic lapse rate of the air"
   ]
  },
  {
   "cell_type": "code",
   "execution_count": 8,
   "metadata": {},
   "outputs": [],
   "source": [
    "rho = 1.2041 #(kg/m3)\n",
    "cp =  3850 #J/(kg C)\n",
    "Ch =  #W/(m2 K).\n",
    "u = 6 #(m/s)\n",
    "Ta = 291\n",
    "Ts = 287\n",
    "z = 0.01 #(km)\n",
    "gamma = 9.8 #k / km"
   ]
  },
  {
   "cell_type": "markdown",
   "metadata": {},
   "source": [
    "3. We create an idealized daily 24h cycle"
   ]
  },
  {
   "cell_type": "code",
   "execution_count": 9,
   "metadata": {},
   "outputs": [],
   "source": [
    "Qh = rho * cp * Ch * u *(Ts - (Ta + gamma * z))"
   ]
  },
  {
   "cell_type": "code",
   "execution_count": 10,
   "metadata": {},
   "outputs": [
    {
     "name": "stdout",
     "output_type": "stream",
     "text": [
      "Sensible heat flux = -113984681.58000037 (W/m2)\n"
     ]
    }
   ],
   "source": [
    "print('Sensible heat flux =',Qh, '(W/m2)')"
   ]
  },
  {
   "cell_type": "code",
   "execution_count": null,
   "metadata": {},
   "outputs": [],
   "source": [
    "#create an array with the radians for the sin function\n",
    "rad = np.linspace(0,np.pi*2,24)\n",
    "\n",
    "#The sin function simulates the daily variability of SST\n",
    "sst = 3*np.sin(rad)+14 #3 degrees of amplitude and centered at 14 \n",
    "\n",
    "#Plot the daily SST\n",
    "plt.plot(sst) \n",
    "plt.ylabel('SST ($^o$C)') #Define Y axis label \n",
    "plt.xlabel('Time (h)') #Define X axis label "
   ]
  }
 ],
 "metadata": {
  "kernelspec": {
   "display_name": "Python 3",
   "language": "python",
   "name": "python3"
  },
  "language_info": {
   "codemirror_mode": {
    "name": "ipython",
    "version": 3
   },
   "file_extension": ".py",
   "mimetype": "text/x-python",
   "name": "python",
   "nbconvert_exporter": "python",
   "pygments_lexer": "ipython3",
   "version": "3.7.3"
  }
 },
 "nbformat": 4,
 "nbformat_minor": 2
}
