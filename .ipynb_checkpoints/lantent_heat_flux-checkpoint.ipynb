{
 "cells": [
  {
   "cell_type": "markdown",
   "metadata": {},
   "source": [
    "# Calculate the latent heat flux\n",
    "\n",
    "1. Import libraries"
   ]
  },
  {
   "cell_type": "code",
   "execution_count": 11,
   "metadata": {},
   "outputs": [],
   "source": [
    "import numpy as np\n",
    "import matplotlib.pyplot as plt"
   ]
  },
  {
   "cell_type": "markdown",
   "metadata": {},
   "source": [
    "2. We define the variables\n",
    "\n",
    "rho = air density\n",
    "\n",
    "Ce = transfer coefficient for latent heat àset to 1.2 *Ch (Ch=transfer coefficient for sensible heat)\n",
    "\n",
    "u = wind speed in m/s\n",
    "\n",
    "qs = 98% of saturated specific humidity at the sea surface temperature (98% accounts for salt effect)\n",
    "\n",
    "qa = measured specific humidity\n",
    "\n",
    "Ts = sea temperature (Celsius)"
   ]
  },
  {
   "cell_type": "code",
   "execution_count": 8,
   "metadata": {},
   "outputs": [],
   "source": [
    "rho = 1.2041 #(kg/m3)\n",
    "Ch = 1000 #W/(m2 K)\n",
    "Ce = Ch * 1.2\n",
    "u = 6 #(m/s)\n",
    "qs = 98\n",
    "qa = \n",
    "Ts = 14 #(celsius)"
   ]
  },
  {
   "cell_type": "markdown",
   "metadata": {},
   "source": [
    "2. We first calculate the \"latent heat of evaporation\" (L) and the \"rate of evaporation\" (Fe)"
   ]
  },
  {
   "cell_type": "code",
   "execution_count": 13,
   "metadata": {},
   "outputs": [
    {
     "ename": "NameError",
     "evalue": "name 'Ce' is not defined",
     "output_type": "error",
     "traceback": [
      "\u001b[0;31m---------------------------------------------------------------------------\u001b[0m",
      "\u001b[0;31mNameError\u001b[0m                                 Traceback (most recent call last)",
      "\u001b[0;32m<ipython-input-13-3b87412670a4>\u001b[0m in \u001b[0;36m<module>\u001b[0;34m\u001b[0m\n\u001b[1;32m      1\u001b[0m \u001b[0mL\u001b[0m \u001b[0;34m=\u001b[0m \u001b[0;34m(\u001b[0m\u001b[0;36m2494\u001b[0m \u001b[0;34m-\u001b[0m \u001b[0;36m2.2\u001b[0m \u001b[0;34m*\u001b[0m \u001b[0mTs\u001b[0m\u001b[0;34m)\u001b[0m\u001b[0;34m\u001b[0m\u001b[0;34m\u001b[0m\u001b[0m\n\u001b[0;32m----> 2\u001b[0;31m \u001b[0mFe\u001b[0m \u001b[0;34m=\u001b[0m \u001b[0mrho\u001b[0m \u001b[0;34m*\u001b[0m \u001b[0mCe\u001b[0m \u001b[0;34m*\u001b[0m \u001b[0mu\u001b[0m \u001b[0;34m*\u001b[0m \u001b[0;34m(\u001b[0m\u001b[0mqs\u001b[0m \u001b[0;34m-\u001b[0m \u001b[0mqa\u001b[0m\u001b[0;34m)\u001b[0m\u001b[0;34m\u001b[0m\u001b[0;34m\u001b[0m\u001b[0m\n\u001b[0m",
      "\u001b[0;31mNameError\u001b[0m: name 'Ce' is not defined"
     ]
    }
   ],
   "source": [
    "L = (2494 - 2.2 * Ts) \n",
    "Fe = rho * Ce * u * (qs - qa)"
   ]
  },
  {
   "cell_type": "code",
   "execution_count": null,
   "metadata": {},
   "outputs": [],
   "source": [
    "3. Now we can estimate the latent heat flux"
   ]
  },
  {
   "cell_type": "code",
   "execution_count": 10,
   "metadata": {},
   "outputs": [
    {
     "name": "stdout",
     "output_type": "stream",
     "text": [
      "Sensible heat flux = -113984681.58000037 (W/m2)\n"
     ]
    }
   ],
   "source": [
    "Qe=Fe*L\n",
    "print('Sensible heat flux =',Qe, '(W/m2)')"
   ]
  },
  {
   "cell_type": "code",
   "execution_count": null,
   "metadata": {},
   "outputs": [],
   "source": [
    "#create an array with the radians for the sin function\n",
    "rad = np.linspace(0,np.pi*2,24)\n",
    "\n",
    "#The sin function simulates the daily variability of SST\n",
    "sst = 3*np.sin(rad)+14 #3 degrees of amplitude and centered at 14 \n",
    "\n",
    "#Plot the daily SST\n",
    "plt.plot(sst) \n",
    "plt.ylabel('SST ($^o$C)') #Define Y axis label \n",
    "plt.xlabel('Time (h)') #Define X axis label "
   ]
  }
 ],
 "metadata": {
  "kernelspec": {
   "display_name": "Python 3",
   "language": "python",
   "name": "python3"
  },
  "language_info": {
   "codemirror_mode": {
    "name": "ipython",
    "version": 3
   },
   "file_extension": ".py",
   "mimetype": "text/x-python",
   "name": "python",
   "nbconvert_exporter": "python",
   "pygments_lexer": "ipython3",
   "version": "3.7.3"
  }
 },
 "nbformat": 4,
 "nbformat_minor": 2
}
